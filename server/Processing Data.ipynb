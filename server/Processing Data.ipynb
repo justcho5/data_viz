{
 "cells": [
  {
   "cell_type": "markdown",
   "metadata": {},
   "source": [
    "Process the data and load them into a database, so we can query them later easily. "
   ]
  },
  {
   "cell_type": "code",
   "execution_count": 130,
   "metadata": {},
   "outputs": [],
   "source": [
    "import pandas as pd\n",
    "import pickle\n",
    "import numpy as np\n",
    "import sqlalchemy as sql\n",
    "import csv"
   ]
  },
  {
   "cell_type": "code",
   "execution_count": 120,
   "metadata": {},
   "outputs": [],
   "source": [
    "id_to_title = {}\n",
    "with open('data/labels_apr.csv', 'r') as csvfile:\n",
    "    next(csvfile) # skip header\n",
    "    csv_reader = csv.reader(csvfile, delimiter=',', )\n",
    "    for row in csv_reader:\n",
    "        id_to_title[row[0]] = row[1]"
   ]
  },
  {
   "cell_type": "code",
   "execution_count": 122,
   "metadata": {},
   "outputs": [],
   "source": [
    "data = []\n",
    "with open('data/counts_apr.pkl', 'rb') as f:\n",
    "    data = pickle.load(f)    "
   ]
  },
  {
   "cell_type": "code",
   "execution_count": 178,
   "metadata": {},
   "outputs": [],
   "source": [
    "engine = sql.create_engine('sqlite:///database.db')\n",
    "metadata = sql.MetaData()\n",
    "\n",
    "articles = sql.Table('articles', metadata,\n",
    "    sql.Column('id', sql.String),\n",
    "    sql.Column('title', sql.String),\n",
    "    sql.Column('year', sql.Integer),\n",
    "    sql.Column('month', sql.Integer),\n",
    "    sql.Column('day', sql.Integer),\n",
    "    sql.Column('view_count', sql.Integer),\n",
    "    sql.Column('main_category', sql.String)\n",
    ")\n",
    "metadata.create_all(engine)"
   ]
  },
  {
   "cell_type": "code",
   "execution_count": 180,
   "metadata": {},
   "outputs": [],
   "source": [
    "def print_rows(limit=10):\n",
    "    i = 0\n",
    "    with engine.connect() as con:\n",
    "        rows = con.execute(articles.select())\n",
    "        for r in rows:\n",
    "            print(int(r.view_count))\n",
    "            i += 1\n",
    "            if ( i == limit): return"
   ]
  },
  {
   "cell_type": "code",
   "execution_count": 181,
   "metadata": {},
   "outputs": [
    {
     "name": "stdout",
     "output_type": "stream",
     "text": [
      "0\n",
      "0\n",
      "0\n",
      "0\n",
      "0\n",
      "0\n",
      "0\n",
      "0\n",
      "0\n",
      "0\n"
     ]
    }
   ],
   "source": [
    "print_rows(10)"
   ]
  },
  {
   "cell_type": "code",
   "execution_count": 182,
   "metadata": {},
   "outputs": [],
   "source": [
    "processed_data = []\n",
    "month_to_index = [\n",
    "  dict(month='10', year='2014', start=193, end=936),\n",
    "  dict(month='11', year='2014', start=937, end=1656),\n",
    "  dict(month='12', year='2014', start=1657, end=2400),\n",
    "  dict(month='01', year='2015', start=2401, end=3144),\n",
    "  dict(month='02', year='2015', start=3145, end=3816),\n",
    "  dict(month='03', year='2015', start=3817, end=4560),\n",
    "  #dict(month='04', year='2015', start=4561, end=5279)\n",
    "]\n",
    "\n",
    "with engine.connect() as con:\n",
    "    for wiki_id in list(data)[:1000|:\n",
    "        hours = data[wiki_id]\n",
    "        if str(wiki_id) in id_to_title:\n",
    "            for each in month_to_index:\n",
    "                days = int((each['end'] - each['start'] + 1) / 24)\n",
    "                array = np.array(hours[each['start'] - 1 : each['end']])\n",
    "                day_total = np.sum(array.reshape((days, 24)), axis=1)\n",
    "                for each_day in range(days):\n",
    "                    title = id_to_title[str(wiki_id)]\n",
    "                    con.execute(articles.insert().values(\n",
    "                        id = wiki_id, \n",
    "                        title = title, \n",
    "                        year = each['year'], \n",
    "                        month = each['month'], \n",
    "                        day = each_day, \n",
    "                        view_count = int(day_total[each_day])\n",
    "                    ))\n",
    "                    "
   ]
  },
  {
   "cell_type": "markdown",
   "metadata": {},
   "source": [
    "## Explore Wikipedia data"
   ]
  },
  {
   "cell_type": "code",
   "execution_count": 185,
   "metadata": {},
   "outputs": [],
   "source": [
    "import wikipedia"
   ]
  },
  {
   "cell_type": "code",
   "execution_count": 189,
   "metadata": {},
   "outputs": [],
   "source": [
    "y = wikipedia.page('Rose_McIver')"
   ]
  },
  {
   "cell_type": "code",
   "execution_count": 192,
   "metadata": {},
   "outputs": [
    {
     "data": {
      "text/plain": [
       "['1988 births',\n",
       " '20th-century New Zealand actresses',\n",
       " '21st-century New Zealand actresses',\n",
       " 'All Wikipedia articles written in New Zealand English',\n",
       " 'Articles with hCards',\n",
       " 'CS1 errors: dates',\n",
       " 'Living people',\n",
       " 'New Zealand child actresses',\n",
       " 'New Zealand expatriates in the United States',\n",
       " 'New Zealand film actresses',\n",
       " 'New Zealand people of Scottish descent',\n",
       " 'New Zealand television actresses',\n",
       " 'Pages with citations having bare URLs',\n",
       " 'Pages with citations lacking titles',\n",
       " 'People educated at Avondale College',\n",
       " 'People from Auckland',\n",
       " 'University of Auckland alumni',\n",
       " 'Use New Zealand English from August 2012',\n",
       " 'Use dmy dates from February 2018',\n",
       " 'Webarchive template wayback links',\n",
       " 'Wikipedia articles with BNF identifiers',\n",
       " 'Wikipedia articles with GND identifiers',\n",
       " 'Wikipedia articles with ISNI identifiers',\n",
       " 'Wikipedia articles with LCCN identifiers',\n",
       " 'Wikipedia articles with VIAF identifiers']"
      ]
     },
     "execution_count": 192,
     "metadata": {},
     "output_type": "execute_result"
    }
   ],
   "source": [
    "y.categories"
   ]
  },
  {
   "cell_type": "code",
   "execution_count": null,
   "metadata": {},
   "outputs": [],
   "source": []
  }
 ],
 "metadata": {
  "kernelspec": {
   "display_name": "Python 3",
   "language": "python",
   "name": "python3"
  },
  "language_info": {
   "codemirror_mode": {
    "name": "ipython",
    "version": 3
   },
   "file_extension": ".py",
   "mimetype": "text/x-python",
   "name": "python",
   "nbconvert_exporter": "python",
   "pygments_lexer": "ipython3",
   "version": "3.7.1"
  }
 },
 "nbformat": 4,
 "nbformat_minor": 2
}

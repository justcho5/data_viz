{
 "cells": [
  {
   "cell_type": "code",
   "execution_count": 55,
   "metadata": {},
   "outputs": [],
   "source": [
    "import requests\n",
    "import re\n",
    "from datetime import datetime\n",
    "from dateutil.relativedelta import relativedelta\n",
    "from tqdm import tqdm_notebook\n",
    "tqdm = tqdm_notebook"
   ]
  },
  {
   "cell_type": "code",
   "execution_count": 6,
   "metadata": {},
   "outputs": [],
   "source": [
    "from_date = '2018-01'\n",
    "to_date = '2018-05'"
   ]
  },
  {
   "cell_type": "code",
   "execution_count": 24,
   "metadata": {},
   "outputs": [
    {
     "name": "stdout",
     "output_type": "stream",
     "text": [
      "2018-02-01 00:00:00\n",
      "2018-03-01 00:00:00\n",
      "2018-04-01 00:00:00\n",
      "2018-05-01 00:00:00\n"
     ]
    }
   ],
   "source": [
    "URL = 'https://dumps.wikimedia.org/other/pagecounts-ez/merged/pagecounts-{}-{}-views-ge-5-totals.bz2'\n",
    "\n",
    "\n",
    "start = datetime.strptime(from_date, \"%Y-%m\")\n",
    "stop = datetime.strptime(to_date, \"%Y-%m\")\n",
    "while start < stop:\n",
    "    start = start + relativedelta(months = +1)\n",
    "    \n",
    "    print(start)"
   ]
  },
  {
   "cell_type": "code",
   "execution_count": 25,
   "metadata": {},
   "outputs": [
    {
     "data": {
      "text/plain": [
       "datetime.datetime(2018, 5, 1, 0, 0)"
      ]
     },
     "execution_count": 25,
     "metadata": {},
     "output_type": "execute_result"
    }
   ],
   "source": []
  },
  {
   "cell_type": "code",
   "execution_count": 64,
   "metadata": {},
   "outputs": [],
   "source": [
    "character_to_month = {\n",
    "    \"A\": 1, \"B\": 2, \"C\": 3, \"D\": 4, \"E\": 5, \"F\": 6, \"G\": 7, \"H\": 8, \"I\": 9, \"J\": 10, \"K\": 11, \"L\": 12, \"M\": 13, \"N\": 14,\n",
    "\"O\": 15, \"P\": 16, \"Q\": 17, \"R\": 18, \"S\": 19, \"T\": 20, \"U\": 21, \"V\": 22, \"W\": 23, \"X\": 24, \"Y\": 25, \"Z\": 26, \"[\": 27,\n",
    "\"\\\\\": 28, \"]\": 29, \"^\": 30, r\"_\": 31 \n",
    "}\n",
    "\n",
    "pattern = re.compile(r\"\\d+\")\n",
    "def month_day_count(one_day):\n",
    "    last_letter_index = 1 # because the first one is the day in month    \n",
    "    numbers = re.findall(pattern, one_day)\n",
    "    total_sum = sum(map(lambda x: int(x), numbers))\n",
    "    return (character_to_month[one_day[0]], total_sum)\n",
    "\n",
    "def sum_and_peak_day(encoded_time):\n",
    "    by_month = encoded_time.split(\",\")\n",
    "    all_sum = [month_day_count(i) for i in by_month[:-1]]\n",
    "    peak_day = max(all_sum, key=lambda x: x[1])[0]\n",
    "    total_sum = sum(map(lambda x: x[1], all_sum))\n",
    "    return (peak_day, total_sum)\n"
   ]
  },
  {
   "cell_type": "code",
   "execution_count": 52,
   "metadata": {},
   "outputs": [
    {
     "data": {
      "text/plain": [
       "(13, 29)"
      ]
     },
     "execution_count": 52,
     "metadata": {},
     "output_type": "execute_result"
    }
   ],
   "source": [
    "t = month_day_count(\"RC115D33\")\n",
    "assert t[1] == 148, t\n",
    "t = month_day_count(\"RC1G16J1L2M1N1T1U1W1X1\")\n",
    "assert t[1] == 26, t\n",
    "month_day_count(\"MC3E2H2I1K1L2M4O2P3R1U2V4W2\")"
   ]
  },
  {
   "cell_type": "code",
   "execution_count": 66,
   "metadata": {},
   "outputs": [
    {
     "data": {
      "application/vnd.jupyter.widget-view+json": {
       "model_id": "1c21bd09d03143a792667e0137c77aa3",
       "version_major": 2,
       "version_minor": 0
      },
      "text/plain": [
       "HBox(children=(IntProgress(value=0, max=11289639), HTML(value='')))"
      ]
     },
     "metadata": {},
     "output_type": "display_data"
    }
   ],
   "source": [
    "import re\n",
    "file = '../wiki_dump/pagecounts-2018-09-english'\n",
    "output = '../wiki_dump/output'\n",
    "with open(file) as f:\n",
    "    with open(output, 'w') as output_file:\n",
    "        for line in tqdm(f, total=11289639):\n",
    "            splits = line.split(' ')\n",
    "            title = splits[1]\n",
    "            count = splits[2]\n",
    "            time = splits[3]\n",
    "            peak_day, total_sum = sum_and_peak_day(time)\n",
    "            assert total_sum != count, \"{} {}\".format(total_sum, count)\n",
    "            if(total_sum >= 10000):\n",
    "                output_file.write(\"{};{};{}\\n\".format(title, count, peak_day))"
   ]
  },
  {
   "cell_type": "code",
   "execution_count": 47,
   "metadata": {},
   "outputs": [
    {
     "data": {
      "text/plain": [
       "(6, 639)"
      ]
     },
     "execution_count": 47,
     "metadata": {},
     "output_type": "execute_result"
    }
   ],
   "source": [
    "sum_and_peak_day(time)"
   ]
  },
  {
   "cell_type": "code",
   "execution_count": 67,
   "metadata": {},
   "outputs": [],
   "source": [
    "import os"
   ]
  },
  {
   "cell_type": "code",
   "execution_count": 69,
   "metadata": {},
   "outputs": [
    {
     "data": {
      "application/vnd.jupyter.widget-view+json": {
       "model_id": "7971f2e0ff1d425db384b8a9520d06e6",
       "version_major": 2,
       "version_minor": 0
      },
      "text/plain": [
       "HBox(children=(IntProgress(value=0, max=4), HTML(value='')))"
      ]
     },
     "metadata": {},
     "output_type": "display_data"
    },
    {
     "name": "stdout",
     "output_type": "stream",
     "text": [
      "run.py\n",
      "Playground.ipynb\n",
      ".ipynb_checkpoints\n",
      "urls.txt\n"
     ]
    }
   ],
   "source": [
    "for files in tqdm(os.listdir('.')):\n",
    "    print(files)"
   ]
  },
  {
   "cell_type": "code",
   "execution_count": null,
   "metadata": {},
   "outputs": [],
   "source": []
  }
 ],
 "metadata": {
  "kernelspec": {
   "display_name": "Python 3",
   "language": "python",
   "name": "python3"
  },
  "language_info": {
   "codemirror_mode": {
    "name": "ipython",
    "version": 3
   },
   "file_extension": ".py",
   "mimetype": "text/x-python",
   "name": "python",
   "nbconvert_exporter": "python",
   "pygments_lexer": "ipython3",
   "version": "3.6.6"
  }
 },
 "nbformat": 4,
 "nbformat_minor": 2
}

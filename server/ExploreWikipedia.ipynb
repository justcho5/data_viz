{
 "cells": [
  {
   "cell_type": "markdown",
   "metadata": {},
   "source": [
    "### Load Wikidump into DB"
   ]
  },
  {
   "cell_type": "markdown",
   "metadata": {},
   "source": [
    "Process the data which was provided by Volodymyr Miz and load them into a database, so we can query them later easily. "
   ]
  },
  {
   "cell_type": "code",
   "execution_count": 4,
   "metadata": {},
   "outputs": [],
   "source": [
    "import pandas as pd\n",
    "import pickle\n",
    "import numpy as np\n",
    "import sqlalchemy as sql\n",
    "import csv"
   ]
  },
  {
   "cell_type": "markdown",
   "metadata": {},
   "source": [
    "Load the data to see how it looks like"
   ]
  },
  {
   "cell_type": "code",
   "execution_count": 2,
   "metadata": {},
   "outputs": [],
   "source": [
    "id_to_title = {}\n",
    "with open('data/labels_apr.csv', 'r') as csvfile:\n",
    "    next(csvfile) # skip header\n",
    "    csv_reader = csv.reader(csvfile, delimiter=',', )\n",
    "    for row in csv_reader:\n",
    "        id_to_title[row[0]] = row[1]"
   ]
  },
  {
   "cell_type": "code",
   "execution_count": 5,
   "metadata": {},
   "outputs": [],
   "source": [
    "data = []\n",
    "with open('data/counts_apr.pkl', 'rb') as f:\n",
    "    data = pickle.load(f)    "
   ]
  },
  {
   "cell_type": "markdown",
   "metadata": {},
   "source": [
    "#### Create a simple sqllite databse."
   ]
  },
  {
   "cell_type": "code",
   "execution_count": 4,
   "metadata": {},
   "outputs": [],
   "source": [
    "engine = sql.create_engine('sqlite:///database.db')\n",
    "metadata = sql.MetaData()\n",
    "\n",
    "articles = sql.Table('articles', metadata,\n",
    "    sql.Column('id', sql.String),\n",
    "    sql.Column('title', sql.String),\n",
    "    sql.Column('year', sql.Integer),\n",
    "    sql.Column('month', sql.Integer),\n",
    "    sql.Column('day', sql.Integer),\n",
    "    sql.Column('view_count', sql.Integer),\n",
    "    sql.Column('main_category', sql.String)\n",
    ")\n",
    "metadata.create_all(engine)"
   ]
  },
  {
   "cell_type": "code",
   "execution_count": 6,
   "metadata": {},
   "outputs": [],
   "source": [
    "def print_rows(limit=10):\n",
    "    i = 0\n",
    "    with engine.connect() as con:\n",
    "        rows = con.execute(articles.select())\n",
    "        for r in rows:\n",
    "            print(int(r.view_count))\n",
    "            i += 1\n",
    "            if ( i == limit): return"
   ]
  },
  {
   "cell_type": "markdown",
   "metadata": {},
   "source": [
    "### Explore Wikipedia data"
   ]
  },
  {
   "cell_type": "code",
   "execution_count": 185,
   "metadata": {},
   "outputs": [],
   "source": [
    "import wikipedia"
   ]
  },
  {
   "cell_type": "code",
   "execution_count": 189,
   "metadata": {},
   "outputs": [],
   "source": [
    "y = wikipedia.page('Rose_McIver')"
   ]
  },
  {
   "cell_type": "code",
   "execution_count": 192,
   "metadata": {},
   "outputs": [
    {
     "data": {
      "text/plain": [
       "['1988 births',\n",
       " '20th-century New Zealand actresses',\n",
       " '21st-century New Zealand actresses',\n",
       " 'All Wikipedia articles written in New Zealand English',\n",
       " 'Articles with hCards',\n",
       " 'CS1 errors: dates',\n",
       " 'Living people',\n",
       " 'New Zealand child actresses',\n",
       " 'New Zealand expatriates in the United States',\n",
       " 'New Zealand film actresses',\n",
       " 'New Zealand people of Scottish descent',\n",
       " 'New Zealand television actresses',\n",
       " 'Pages with citations having bare URLs',\n",
       " 'Pages with citations lacking titles',\n",
       " 'People educated at Avondale College',\n",
       " 'People from Auckland',\n",
       " 'University of Auckland alumni',\n",
       " 'Use New Zealand English from August 2012',\n",
       " 'Use dmy dates from February 2018',\n",
       " 'Webarchive template wayback links',\n",
       " 'Wikipedia articles with BNF identifiers',\n",
       " 'Wikipedia articles with GND identifiers',\n",
       " 'Wikipedia articles with ISNI identifiers',\n",
       " 'Wikipedia articles with LCCN identifiers',\n",
       " 'Wikipedia articles with VIAF identifiers']"
      ]
     },
     "execution_count": 192,
     "metadata": {},
     "output_type": "execute_result"
    }
   ],
   "source": [
    "y.categories"
   ]
  },
  {
   "cell_type": "code",
   "execution_count": null,
   "metadata": {},
   "outputs": [],
   "source": []
  }
 ],
 "metadata": {
  "kernelspec": {
   "display_name": "Python 3",
   "language": "python",
   "name": "python3"
  },
  "language_info": {
   "codemirror_mode": {
    "name": "ipython",
    "version": 3
   },
   "file_extension": ".py",
   "mimetype": "text/x-python",
   "name": "python",
   "nbconvert_exporter": "python",
   "pygments_lexer": "ipython3",
   "version": "3.6.7"
  }
 },
 "nbformat": 4,
 "nbformat_minor": 2
}
